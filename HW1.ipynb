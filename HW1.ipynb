{
 "cells": [
  {
   "cell_type": "code",
   "execution_count": 30,
   "metadata": {},
   "outputs": [],
   "source": [
    "import re"
   ]
  },
  {
   "cell_type": "code",
   "execution_count": 233,
   "metadata": {},
   "outputs": [],
   "source": [
    "def normalize(form):\n",
    "    if form in {'м', 'ж', 'с', 'мо', 'мн', 'жо', 'жн', 'со', 'сн', 'мо-жо'}:\n",
    "        return 'S'\n",
    "    elif form == 'п':\n",
    "        return 'A'\n",
    "    elif form in {'св', 'нсв'}:\n",
    "        return 'V'\n",
    "    elif form == 'предл.':\n",
    "        return 'PR'\n",
    "    elif form == 'союз':\n",
    "        return 'CONJ'\n",
    "    else:\n",
    "        return 'ADV'\n",
    "    \n",
    "inf = open('odict.csv', 'r', encoding='windows-1251')\n",
    "words = {}\n",
    "for line in inf.readlines():\n",
    "    kek = line.split(',')\n",
    "    lemma = kek[0].lower()\n",
    "    form = normalize(kek[1])\n",
    "    lemmaform = '{' + f'{lemma}={form}' + '}'\n",
    "    words[lemma] = lemmaform\n",
    "    for wd in kek[2:]:\n",
    "        words[wd.lower()] = lemmaform\n",
    "\n",
    "conj_file = open('conj.txt', 'r')\n",
    "for line in conj_file.readlines():\n",
    "    conj = line[:-1]\n",
    "    words[conj] = '{' + f'{conj}=CONJ' + '}'\n",
    "    \n",
    "prep_file = open('prep.txt', 'r')\n",
    "for line in prep_file.readlines():\n",
    "    prep = line[:-1]\n",
    "    words[prep] = '{' + f'{prep}=PR' + '}'\n",
    "    \n"
   ]
  },
  {
   "cell_type": "code",
   "execution_count": 234,
   "metadata": {},
   "outputs": [],
   "source": [
    "def lemmatize(word):\n",
    "    return word + words[word.lower()] if word.lower() in words else word + '{' + f'{word}=ADV' + '}'\n",
    "        \n",
    "        \n",
    "def lemmatize_all(text):\n",
    "    tokens = re.findall('[\\\\w|-]+', text)\n",
    "    return ' '.join(list(map(lemmatize, tokens)))"
   ]
  },
  {
   "cell_type": "code",
   "execution_count": 235,
   "metadata": {},
   "outputs": [],
   "source": [
    "sample_file = open('dataset_1.txt', 'r')\n",
    "res_file = open('result.txt', 'w')\n",
    "for line in sample_file.readlines():\n",
    "    res_file.write(lemmatize_all(line) + '\\n')"
   ]
  },
  {
   "cell_type": "code",
   "execution_count": null,
   "metadata": {},
   "outputs": [],
   "source": []
  }
 ],
 "metadata": {
  "kernelspec": {
   "display_name": "Python 3",
   "language": "python",
   "name": "python3"
  },
  "language_info": {
   "codemirror_mode": {
    "name": "ipython",
    "version": 3
   },
   "file_extension": ".py",
   "mimetype": "text/x-python",
   "name": "python",
   "nbconvert_exporter": "python",
   "pygments_lexer": "ipython3",
   "version": "3.6.7"
  }
 },
 "nbformat": 4,
 "nbformat_minor": 2
}
